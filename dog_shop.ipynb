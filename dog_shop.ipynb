{
  "nbformat": 4,
  "nbformat_minor": 0,
  "metadata": {
    "colab": {
      "name": "dog_shop.ipynb",
      "provenance": []
    },
    "kernelspec": {
      "name": "python3",
      "display_name": "Python 3"
    },
    "language_info": {
      "name": "python"
    }
  },
  "cells": [
    {
      "cell_type": "code",
      "metadata": {
        "colab": {
          "base_uri": "https://localhost:8080/",
          "height": 995
        },
        "id": "d_39VNtBWOyr",
        "outputId": "7b23db0e-04f2-43ef-a751-83d5b2cb48b5"
      },
      "source": [
        "!pip install Selenium\n",
        "!apt-get update\n",
        "!apt install chromium-chromedriver\n",
        "!cp /user/lib/chromium-browser/chromedriver /usr/bin\n",
        "\n",
        "import sys\n",
        "sys.path.insert(0, '/usr/lib/chromium-browser/chromedriver')\n",
        "\n",
        "from selenium import webdriver\n",
        "chrome_options = webdriver.ChromeOptions()\n",
        "chrome_options.add_argument('--headless')\n",
        "chrome_options.add_argument('--no-sandbox')\n",
        "chrome_options.add_argument('--disable-dev-shm-usage')"
      ],
      "execution_count": 166,
      "outputs": [
        {
          "output_type": "stream",
          "name": "stdout",
          "text": [
            "Requirement already satisfied: Selenium in /usr/local/lib/python3.7/dist-packages (4.0.0)\n",
            "Requirement already satisfied: trio-websocket~=0.9 in /usr/local/lib/python3.7/dist-packages (from Selenium) (0.9.2)\n",
            "Collecting urllib3[secure]~=1.26\n",
            "  Using cached urllib3-1.26.7-py2.py3-none-any.whl (138 kB)\n",
            "Requirement already satisfied: trio~=0.17 in /usr/local/lib/python3.7/dist-packages (from Selenium) (0.19.0)\n",
            "Requirement already satisfied: outcome in /usr/local/lib/python3.7/dist-packages (from trio~=0.17->Selenium) (1.1.0)\n",
            "Requirement already satisfied: idna in /usr/local/lib/python3.7/dist-packages (from trio~=0.17->Selenium) (2.10)\n",
            "Requirement already satisfied: sortedcontainers in /usr/local/lib/python3.7/dist-packages (from trio~=0.17->Selenium) (2.4.0)\n",
            "Requirement already satisfied: async-generator>=1.9 in /usr/local/lib/python3.7/dist-packages (from trio~=0.17->Selenium) (1.10)\n",
            "Requirement already satisfied: attrs>=19.2.0 in /usr/local/lib/python3.7/dist-packages (from trio~=0.17->Selenium) (21.2.0)\n",
            "Requirement already satisfied: sniffio in /usr/local/lib/python3.7/dist-packages (from trio~=0.17->Selenium) (1.2.0)\n",
            "Requirement already satisfied: wsproto>=0.14 in /usr/local/lib/python3.7/dist-packages (from trio-websocket~=0.9->Selenium) (1.0.0)\n",
            "Requirement already satisfied: cryptography>=1.3.4 in /usr/local/lib/python3.7/dist-packages (from urllib3[secure]~=1.26->Selenium) (35.0.0)\n",
            "Requirement already satisfied: certifi in /usr/local/lib/python3.7/dist-packages (from urllib3[secure]~=1.26->Selenium) (2021.5.30)\n",
            "Requirement already satisfied: pyOpenSSL>=0.14 in /usr/local/lib/python3.7/dist-packages (from urllib3[secure]~=1.26->Selenium) (21.0.0)\n",
            "Requirement already satisfied: cffi>=1.12 in /usr/local/lib/python3.7/dist-packages (from cryptography>=1.3.4->urllib3[secure]~=1.26->Selenium) (1.14.6)\n",
            "Requirement already satisfied: pycparser in /usr/local/lib/python3.7/dist-packages (from cffi>=1.12->cryptography>=1.3.4->urllib3[secure]~=1.26->Selenium) (2.20)\n",
            "Requirement already satisfied: six>=1.5.2 in /usr/local/lib/python3.7/dist-packages (from pyOpenSSL>=0.14->urllib3[secure]~=1.26->Selenium) (1.15.0)\n",
            "Requirement already satisfied: h11<1,>=0.9.0 in /usr/local/lib/python3.7/dist-packages (from wsproto>=0.14->trio-websocket~=0.9->Selenium) (0.12.0)\n",
            "Installing collected packages: urllib3\n",
            "  Attempting uninstall: urllib3\n",
            "    Found existing installation: urllib3 1.24.1\n",
            "    Uninstalling urllib3-1.24.1:\n",
            "      Successfully uninstalled urllib3-1.24.1\n",
            "\u001b[31mERROR: pip's dependency resolver does not currently take into account all the packages that are installed. This behaviour is the source of the following dependency conflicts.\n",
            "requests 2.23.0 requires urllib3!=1.25.0,!=1.25.1,<1.26,>=1.21.1, but you have urllib3 1.26.7 which is incompatible.\n",
            "datascience 0.10.6 requires folium==0.2.1, but you have folium 0.8.3 which is incompatible.\u001b[0m\n",
            "Successfully installed urllib3-1.26.7\n"
          ]
        },
        {
          "output_type": "display_data",
          "data": {
            "application/vnd.colab-display-data+json": {
              "pip_warning": {
                "packages": [
                  "urllib3"
                ]
              }
            }
          },
          "metadata": {}
        },
        {
          "output_type": "stream",
          "name": "stdout",
          "text": [
            "\r0% [Working]\r            \rGet:1 http://security.ubuntu.com/ubuntu bionic-security InRelease [88.7 kB]\n",
            "\r0% [Connecting to archive.ubuntu.com (91.189.88.142)] [1 InRelease 14.2 kB/88.7\r                                                                               \rGet:2 https://cloud.r-project.org/bin/linux/ubuntu bionic-cran40/ InRelease [3,626 B]\n",
            "Ign:3 https://developer.download.nvidia.com/compute/cuda/repos/ubuntu1804/x86_64  InRelease\n",
            "Hit:4 http://ppa.launchpad.net/c2d4u.team/c2d4u4.0+/ubuntu bionic InRelease\n",
            "Ign:5 https://developer.download.nvidia.com/compute/machine-learning/repos/ubuntu1804/x86_64  InRelease\n",
            "Hit:6 https://developer.download.nvidia.com/compute/cuda/repos/ubuntu1804/x86_64  Release\n",
            "Hit:7 https://developer.download.nvidia.com/compute/machine-learning/repos/ubuntu1804/x86_64  Release\n",
            "Hit:8 http://archive.ubuntu.com/ubuntu bionic InRelease\n",
            "Get:9 http://archive.ubuntu.com/ubuntu bionic-updates InRelease [88.7 kB]\n",
            "Hit:10 http://ppa.launchpad.net/cran/libgit2/ubuntu bionic InRelease\n",
            "Hit:11 http://ppa.launchpad.net/deadsnakes/ppa/ubuntu bionic InRelease\n",
            "Get:12 http://archive.ubuntu.com/ubuntu bionic-backports InRelease [74.6 kB]\n",
            "Hit:13 http://ppa.launchpad.net/graphics-drivers/ppa/ubuntu bionic InRelease\n",
            "Get:16 http://archive.ubuntu.com/ubuntu bionic-updates/universe amd64 Packages [2,217 kB]\n",
            "Fetched 2,472 kB in 3s (898 kB/s)\n",
            "Reading package lists... Done\n",
            "Reading package lists... Done\n",
            "Building dependency tree       \n",
            "Reading state information... Done\n",
            "chromium-chromedriver is already the newest version (95.0.4638.69-0ubuntu0.18.04.1).\n",
            "0 upgraded, 0 newly installed, 0 to remove and 47 not upgraded.\n",
            "cp: cannot stat '/user/lib/chromium-browser/chromedriver': No such file or directory\n"
          ]
        }
      ]
    },
    {
      "cell_type": "code",
      "metadata": {
        "colab": {
          "base_uri": "https://localhost:8080/",
          "height": 302
        },
        "id": "gU5zvEn6hA1a",
        "outputId": "e5755cbd-8873-4b1c-8b4c-2e01e967d469"
      },
      "source": [
        "pip install urllib3==1.24.1"
      ],
      "execution_count": 167,
      "outputs": [
        {
          "output_type": "stream",
          "name": "stdout",
          "text": [
            "Collecting urllib3==1.24.1\n",
            "  Using cached urllib3-1.24.1-py2.py3-none-any.whl (118 kB)\n",
            "Installing collected packages: urllib3\n",
            "  Attempting uninstall: urllib3\n",
            "    Found existing installation: urllib3 1.26.7\n",
            "    Uninstalling urllib3-1.26.7:\n",
            "      Successfully uninstalled urllib3-1.26.7\n",
            "\u001b[31mERROR: pip's dependency resolver does not currently take into account all the packages that are installed. This behaviour is the source of the following dependency conflicts.\n",
            "selenium 4.0.0 requires urllib3[secure]~=1.26, but you have urllib3 1.24.1 which is incompatible.\n",
            "datascience 0.10.6 requires folium==0.2.1, but you have folium 0.8.3 which is incompatible.\u001b[0m\n",
            "Successfully installed urllib3-1.24.1\n"
          ]
        },
        {
          "output_type": "display_data",
          "data": {
            "application/vnd.colab-display-data+json": {
              "pip_warning": {
                "packages": [
                  "urllib3"
                ]
              }
            }
          },
          "metadata": {}
        }
      ]
    },
    {
      "cell_type": "code",
      "metadata": {
        "id": "ZgxO7taOhd-u"
      },
      "source": [
        "import pandas as pd\n",
        "from selenium.common.exceptions import NoSuchElementException\n",
        "from selenium.webdriver.common.by import By\n",
        "from selenium.webdriver import ActionChains\n",
        "import time\n",
        "import csv\n",
        "\n",
        "def get_info(url, page):\n",
        "    wd = webdriver.Chrome('chromedriver', options=chrome_options)\n",
        "    #wd.get(url)\n",
        "    \n",
        "    name_list = [] #가게 이름\n",
        "    menu_list = [] #메뉴\n",
        "    etc_list = []  #기타 정보\n",
        "    address_list = [] #주소\n",
        "    date_list = [] #영업 요일\n",
        "    time_list = [] #영업 시간\n",
        "   \n",
        "    try:\n",
        "\n",
        "        wd.get(url)\n",
        "        \n",
        "        names = wd.find_elements_by_class_name('tit-point')\n",
        "        name_list += [name.text for name in names]\n",
        "        \n",
        "        menus = wd.find_elements_by_xpath('//*[@id=\"div_profile\"]/div[1]/div[3]')\n",
        "        menu_list += [menu.text.split('|')[1] for menu in menus]\n",
        "       \n",
        "        etcs = wd.find_elements_by_class_name('char')\n",
        "        etc_list += [etc.text for etc in etcs]\n",
        "\n",
        "        addresses = wd.find_elements_by_class_name('locat')\n",
        "        address_list += [address.text for address in addresses]\n",
        "     \n",
        "        #dates = wd.find_elements_by_class_name('list')\n",
        "        dates = wd.find_elements_by_xpath('//*[@id=\"div_detail\"]/div[1]//ul') \n",
        "       \n",
        "        #dates = wd.find_element_by_css_selector('#div_detail > div.busi-hours.short > ul > li')\n",
        "        \n",
        "        date_list += [date.text for date in dates]\n",
        "        print(date_list)\n",
        "        #times = wd.find_elements_by_class_name('r-txt')\n",
        "        #time_list += [time.text for time in times]\n",
        "        \n",
        "    except NoSuchElementException:\n",
        "      print('error')\n",
        "        \n",
        "    shop_df = pd.DataFrame({\"이름\": name_list,\n",
        "                            \"메뉴\": menu_list,\n",
        "                            \"기타정보\": etc_list,\n",
        "                            \"주소\": address_list,\n",
        "                            \"영업일\": date_list})\n",
        "    shop_arr = [name_list, menu_list, etc_list, address_list, date_list]\n",
        "    #shop_df.to_csv('/content/sample_data/dog_dataset.csv')\n",
        "    with open('/content/sample_data/dog_dataset.csv', 'a') as myfile:\n",
        "      wr = csv.writer(myfile)\n",
        "      wr.writerow(shop_arr)\n",
        "    return shop_df"
      ],
      "execution_count": 48,
      "outputs": []
    },
    {
      "cell_type": "code",
      "metadata": {
        "colab": {
          "base_uri": "https://localhost:8080/",
          "height": 185
        },
        "id": "jh65vhKyhzsX",
        "outputId": "84b28414-14f6-4c10-b800-2a178bc844b2"
      },
      "source": [
        "url = \"https://www.diningcode.com/profile.php?rid=fzvjuJRhNl3I\"\n",
        "shop_df = get_info(url, 1)\n",
        "shop_df"
      ],
      "execution_count": 49,
      "outputs": [
        {
          "output_type": "stream",
          "name": "stderr",
          "text": [
            "/usr/local/lib/python3.7/dist-packages/ipykernel_launcher.py:23: DeprecationWarning: find_elements_by_* commands are deprecated. Please use find_elements() instead\n",
            "/usr/local/lib/python3.7/dist-packages/ipykernel_launcher.py:26: DeprecationWarning: find_elements_by_* commands are deprecated. Please use find_elements() instead\n",
            "/usr/local/lib/python3.7/dist-packages/ipykernel_launcher.py:29: DeprecationWarning: find_elements_by_* commands are deprecated. Please use find_elements() instead\n",
            "/usr/local/lib/python3.7/dist-packages/ipykernel_launcher.py:32: DeprecationWarning: find_elements_by_* commands are deprecated. Please use find_elements() instead\n"
          ]
        },
        {
          "output_type": "stream",
          "name": "stdout",
          "text": [
            "['월,수,목,금,토/일\\n휴무일']\n"
          ]
        },
        {
          "output_type": "stream",
          "name": "stderr",
          "text": [
            "/usr/local/lib/python3.7/dist-packages/ipykernel_launcher.py:36: DeprecationWarning: find_elements_by_* commands are deprecated. Please use find_elements() instead\n"
          ]
        },
        {
          "output_type": "execute_result",
          "data": {
            "text/html": [
              "<div>\n",
              "<style scoped>\n",
              "    .dataframe tbody tr th:only-of-type {\n",
              "        vertical-align: middle;\n",
              "    }\n",
              "\n",
              "    .dataframe tbody tr th {\n",
              "        vertical-align: top;\n",
              "    }\n",
              "\n",
              "    .dataframe thead th {\n",
              "        text-align: right;\n",
              "    }\n",
              "</style>\n",
              "<table border=\"1\" class=\"dataframe\">\n",
              "  <thead>\n",
              "    <tr style=\"text-align: right;\">\n",
              "      <th></th>\n",
              "      <th>이름</th>\n",
              "      <th>메뉴</th>\n",
              "      <th>기타정보</th>\n",
              "      <th>주소</th>\n",
              "      <th>영업일</th>\n",
              "    </tr>\n",
              "  </thead>\n",
              "  <tbody>\n",
              "    <tr>\n",
              "      <th>0</th>\n",
              "      <td>올드페리도넛</td>\n",
              "      <td>도넛, 크림브륄레</td>\n",
              "      <td>캐주얼한, 점심식사, 야외좌석(테라스)</td>\n",
              "      <td>서울특별시 용산구 한남동 727-21</td>\n",
              "      <td>월,수,목,금,토/일\\n휴무일</td>\n",
              "    </tr>\n",
              "  </tbody>\n",
              "</table>\n",
              "</div>"
            ],
            "text/plain": [
              "       이름          메뉴  ...                    주소               영업일\n",
              "0  올드페리도넛   도넛, 크림브륄레  ...  서울특별시 용산구 한남동 727-21  월,수,목,금,토/일\\n휴무일\n",
              "\n",
              "[1 rows x 5 columns]"
            ]
          },
          "metadata": {},
          "execution_count": 49
        }
      ]
    },
    {
      "cell_type": "code",
      "metadata": {
        "id": "y30Xx2jTqpRb"
      },
      "source": [
        "#전처리\n",
        "\n",
        "df = pd.read_csv('/content/sample_data/dog_dataset.csv')\n",
        "\n",
        "df['이름'] = df['이름'].str.split('\\'').str[1]\n",
        "df['메뉴'] = df['메뉴'].str.split('\\'').str[1]\n",
        "df['기타정보'] = df['기타정보'].str.split('\\'').str[1]\n",
        "df['주소'] = df['주소'].str.split('\\'').str[1]\n",
        "df['영업일'] = df['영업일'].str.split('\\'').str[1]\n",
        "df = df.replace(r'\\\\n', ' ', regex=True)\n",
        "\n",
        "df.head()\n",
        "\n",
        "df.to_csv('/content/sample_data/dog_shop_dataset.csv', encoding='utf-8')"
      ],
      "execution_count": 165,
      "outputs": []
    }
  ]
}